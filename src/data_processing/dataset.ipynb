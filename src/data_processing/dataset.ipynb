{
 "cells": [
  {
   "cell_type": "code",
   "execution_count": 1,
   "metadata": {},
   "outputs": [
    {
     "name": "stderr",
     "output_type": "stream",
     "text": [
      "/Users/nrh146/.pyenv/versions/3.12.4/envs/wildchat/lib/python3.12/site-packages/tqdm/auto.py:21: TqdmWarning: IProgress not found. Please update jupyter and ipywidgets. See https://ipywidgets.readthedocs.io/en/stable/user_install.html\n",
      "  from .autonotebook import tqdm as notebook_tqdm\n"
     ]
    }
   ],
   "source": [
    "import datasets\n",
    "import pandas as pd\n",
    "\n",
    "from tqdm import tqdm"
   ]
  },
  {
   "cell_type": "code",
   "execution_count": 2,
   "metadata": {},
   "outputs": [
    {
     "name": "stderr",
     "output_type": "stream",
     "text": [
      "Downloading readme: 100%|██████████| 10.4k/10.4k [00:00<00:00, 196kB/s]\n",
      "Downloading data: 100%|██████████| 231M/231M [00:04<00:00, 47.3MB/s] \n",
      "Downloading data: 100%|██████████| 216M/216M [00:04<00:00, 49.8MB/s] \n",
      "Downloading data: 100%|██████████| 206M/206M [00:04<00:00, 47.0MB/s] \n",
      "Downloading data: 100%|██████████| 217M/217M [00:04<00:00, 49.9MB/s] \n",
      "Downloading data: 100%|██████████| 208M/208M [00:04<00:00, 48.8MB/s] \n",
      "Downloading data: 100%|██████████| 201M/201M [00:04<00:00, 43.5MB/s] \n",
      "Downloading data: 100%|██████████| 190M/190M [00:03<00:00, 49.1MB/s] \n",
      "Downloading data: 100%|██████████| 189M/189M [00:03<00:00, 50.1MB/s] \n",
      "Downloading data: 100%|██████████| 181M/181M [00:03<00:00, 48.2MB/s] \n",
      "Downloading data: 100%|██████████| 269M/269M [00:05<00:00, 48.1MB/s] \n",
      "Downloading data: 100%|██████████| 336M/336M [00:06<00:00, 48.5MB/s] \n",
      "Downloading data: 100%|██████████| 300M/300M [00:06<00:00, 48.3MB/s] \n",
      "Downloading data: 100%|██████████| 283M/283M [00:05<00:00, 48.8MB/s] \n",
      "Downloading data: 100%|██████████| 336M/336M [00:07<00:00, 45.2MB/s] \n",
      "Generating train split: 100%|██████████| 838076/838076 [00:09<00:00, 88732.73 examples/s] \n"
     ]
    }
   ],
   "source": [
    "dataset = datasets.load_dataset(\"allenai/WildChat-1M\")"
   ]
  },
  {
   "cell_type": "code",
   "execution_count": 3,
   "metadata": {},
   "outputs": [
    {
     "name": "stderr",
     "output_type": "stream",
     "text": [
      "100%|██████████| 1/1 [00:57<00:00, 57.15s/it]\n"
     ]
    }
   ],
   "source": [
    "data_all = []\n",
    "for d in tqdm(dataset.items()):\n",
    "    data_all.append(d[1].to_pandas())"
   ]
  },
  {
   "cell_type": "code",
   "execution_count": 4,
   "metadata": {},
   "outputs": [],
   "source": [
    "df = pd.concat(data_all)"
   ]
  },
  {
   "cell_type": "code",
   "execution_count": 7,
   "metadata": {},
   "outputs": [
    {
     "name": "stderr",
     "output_type": "stream",
     "text": [
      "100%|██████████| 838076/838076 [06:09<00:00, 2267.56it/s] \n"
     ]
    }
   ],
   "source": [
    "data_formatted = []\n",
    "for _, row in tqdm(df.iterrows(), total=len(df)):\n",
    "    formatted = pd.DataFrame(list(row.conversation))[[\"content\", \"state\", \"country\", \"language\", \"hashed_ip\", \"role\", \"timestamp\", \"turn_identifier\"]]\n",
    "    formatted[\"conversation_hash\"] = row.conversation_hash\n",
    "    data_formatted.append(formatted)\n",
    "\n",
    "df = pd.concat(data_formatted)"
   ]
  },
  {
   "cell_type": "code",
   "execution_count": 10,
   "metadata": {},
   "outputs": [],
   "source": [
    "df.to_parquet(\"../../data/wildchat.parquet\")"
   ]
  },
  {
   "cell_type": "code",
   "execution_count": null,
   "metadata": {},
   "outputs": [],
   "source": []
  }
 ],
 "metadata": {
  "kernelspec": {
   "display_name": "wildchat",
   "language": "python",
   "name": "python3"
  },
  "language_info": {
   "codemirror_mode": {
    "name": "ipython",
    "version": 3
   },
   "file_extension": ".py",
   "mimetype": "text/x-python",
   "name": "python",
   "nbconvert_exporter": "python",
   "pygments_lexer": "ipython3",
   "version": "3.12.4"
  }
 },
 "nbformat": 4,
 "nbformat_minor": 2
}
